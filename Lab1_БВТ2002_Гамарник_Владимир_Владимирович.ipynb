{
  "nbformat": 4,
  "nbformat_minor": 0,
  "metadata": {
    "colab": {
      "name": "Lab1_БВТ2002_Гамарник_Владимир_Владимирович.ipynb",
      "provenance": [],
      "collapsed_sections": []
    },
    "kernelspec": {
      "name": "python3",
      "display_name": "Python 3"
    },
    "language_info": {
      "name": "python"
    }
  },
  "cells": [
    {
      "cell_type": "markdown",
      "source": [
        "# Лабораторная работа №1\n",
        "## Выполнил студент группы БВТ2002 Гамарник Владимир Владимирович\n",
        "### Задание №1\n",
        "Выведите \"Hello, World!\""
      ],
      "metadata": {
        "id": "T9SYC-jIOHT0"
      }
    },
    {
      "cell_type": "code",
      "source": [
        "print(\"Hello, World!\")"
      ],
      "metadata": {
        "colab": {
          "base_uri": "https://localhost:8080/"
        },
        "id": "2OClTagWOqW4",
        "outputId": "12d0a230-b147-4530-df51-63f06b4973fc"
      },
      "execution_count": 4,
      "outputs": [
        {
          "output_type": "stream",
          "name": "stdout",
          "text": [
            "Hello, World!\n"
          ]
        }
      ]
    },
    {
      "cell_type": "markdown",
      "source": [
        "### Задание №2\n",
        "Написать генератор случайных матриц(многомерных), который принимает опциональные параметры m, n, min_limit, max_limit, где m и n указывают размер матрицы, а min_lim и max_lim - минимальное и максимальное значение для генерируемого числа. По умолчанию при отсутствии параметров принимать следующие значения:\n",
        "m = 50\n",
        "n = 50\n",
        "min_limit = -250\n",
        "max_limit = 1000 + (номер своего варианта)"
      ],
      "metadata": {
        "id": "p13ABv9gPCW7"
      }
    },
    {
      "cell_type": "code",
      "source": [
        "import numpy as np\n",
        "m = int(input())\n",
        "n = int(input())\n",
        "min_limit = int(input())\n",
        "max_limit = int(input())\n",
        "if(m == ''):\n",
        "  m = 50\n",
        "if(n == ''):\n",
        "  n = 50\n",
        "if(min_limit == ''):\n",
        "  min_limit = -250\n",
        "if(max_limit == ''):\n",
        "  max_limit = 1000 + 5\n",
        "matrix = np.random.randint(min_limit, max_limit, (m, n))\n",
        "print(matrix)"
      ],
      "metadata": {
        "colab": {
          "base_uri": "https://localhost:8080/"
        },
        "id": "VmMLI6dJQeHO",
        "outputId": "691a342c-ae5c-4cb7-f2fd-d8ae5aee839b"
      },
      "execution_count": 14,
      "outputs": [
        {
          "output_type": "stream",
          "name": "stdout",
          "text": [
            "10\n",
            "10\n",
            "0\n",
            "100\n",
            "[[74  5  0 83 80 79 66 26 59 33]\n",
            " [96 25 44 94 34  0 98 33 47 35]\n",
            " [82 74 73 33 78 58 42 80 52  5]\n",
            " [86 53 72 43 21 19 63 35 52 47]\n",
            " [ 1 40 99 75 29 65 24 77 73 59]\n",
            " [87 31 12 97 84 20 84 40 20 58]\n",
            " [89 11  0 31 66 57 56 67 22 38]\n",
            " [45  7 17 59 67 11 93 87 78 27]\n",
            " [35  3 58 94 56 33 56 86 17 42]\n",
            " [89 93 85 23 74 87 35 89 13 93]]\n"
          ]
        }
      ]
    },
    {
      "cell_type": "markdown",
      "source": [
        "### Задание №3\n",
        "Реализовать методы сортировки строк числовой матрицы в соответствии с заданием. Оценить время работы каждого алгоритма сортировки и сравнить его со временем стандартной функции сортировки. Испытания проводить на сгенерированных матрицах \n",
        "Методы: Выбором, Вставкой, Обменом, Шелла, Турнирная, Быстрая, сортировка, Пирамидальная."
      ],
      "metadata": {
        "id": "jdytV87wWMKB"
      }
    },
    {
      "cell_type": "markdown",
      "source": [
        "1. Сортировка выбором"
      ],
      "metadata": {
        "id": "nWUSNZu3YHxT"
      }
    },
    {
      "cell_type": "code",
      "source": [
        "from random import randint\n",
        " \n",
        " \n",
        "def sel_sort(array):\n",
        "    for i in range(len(array) - 1):\n",
        "        m = i\n",
        "        j = i + 1\n",
        "        while j < len(array):\n",
        "            if array[j] < array[m]:\n",
        "                m = j\n",
        "            j = j + 1\n",
        "        array[i], array[m] = array[m], array[i]\n",
        " \n",
        " \n",
        "a = []\n",
        "for i in range(10):\n",
        "    a.append(randint(1, 99))\n",
        " \n",
        "print(a)\n",
        "sel_sort(a)\n",
        "print(a)"
      ],
      "metadata": {
        "colab": {
          "base_uri": "https://localhost:8080/"
        },
        "id": "kqi6aEhWXVjB",
        "outputId": "7cb7a144-014e-4eb8-df83-8f5cc973f903"
      },
      "execution_count": 15,
      "outputs": [
        {
          "output_type": "stream",
          "name": "stdout",
          "text": [
            "[32, 23, 26, 41, 77, 61, 74, 43, 25, 36]\n",
            "[23, 25, 26, 32, 36, 41, 43, 61, 74, 77]\n"
          ]
        }
      ]
    },
    {
      "cell_type": "markdown",
      "source": [
        "2. Сортировка Вставкой"
      ],
      "metadata": {
        "id": "xa76hJYdYXj7"
      }
    },
    {
      "cell_type": "code",
      "source": [
        "def insertion_sort(alist):\n",
        "    for i in range(1, len(alist)):\n",
        "        temp = alist[i]\n",
        "        j = i - 1\n",
        "        while (j >= 0 and temp < alist[j]):\n",
        "            alist[j + 1] = alist[j]\n",
        "            j = j - 1\n",
        "        alist[j + 1] = temp\n",
        " \n",
        " \n",
        "alist = input('Enter the list of numbers: ').split()\n",
        "alist = [int(x) for x in alist]\n",
        "insertion_sort(alist)\n",
        "print('Sorted list: ', end='')\n",
        "print(alist)"
      ],
      "metadata": {
        "colab": {
          "base_uri": "https://localhost:8080/",
          "height": 536
        },
        "id": "V3-0UNBEYba6",
        "outputId": "dd816a1e-d753-4b60-822a-2603ae0c54a5"
      },
      "execution_count": 1,
      "outputs": [
        {
          "output_type": "error",
          "ename": "KeyboardInterrupt",
          "evalue": "ignored",
          "traceback": [
            "\u001b[0;31m---------------------------------------------------------------------------\u001b[0m",
            "\u001b[0;31mKeyboardInterrupt\u001b[0m                         Traceback (most recent call last)",
            "\u001b[0;32m/usr/local/lib/python3.7/dist-packages/ipykernel/kernelbase.py\u001b[0m in \u001b[0;36m_input_request\u001b[0;34m(self, prompt, ident, parent, password)\u001b[0m\n\u001b[1;32m    728\u001b[0m             \u001b[0;32mtry\u001b[0m\u001b[0;34m:\u001b[0m\u001b[0;34m\u001b[0m\u001b[0;34m\u001b[0m\u001b[0m\n\u001b[0;32m--> 729\u001b[0;31m                 \u001b[0mident\u001b[0m\u001b[0;34m,\u001b[0m \u001b[0mreply\u001b[0m \u001b[0;34m=\u001b[0m \u001b[0mself\u001b[0m\u001b[0;34m.\u001b[0m\u001b[0msession\u001b[0m\u001b[0;34m.\u001b[0m\u001b[0mrecv\u001b[0m\u001b[0;34m(\u001b[0m\u001b[0mself\u001b[0m\u001b[0;34m.\u001b[0m\u001b[0mstdin_socket\u001b[0m\u001b[0;34m,\u001b[0m \u001b[0;36m0\u001b[0m\u001b[0;34m)\u001b[0m\u001b[0;34m\u001b[0m\u001b[0;34m\u001b[0m\u001b[0m\n\u001b[0m\u001b[1;32m    730\u001b[0m             \u001b[0;32mexcept\u001b[0m \u001b[0mException\u001b[0m\u001b[0;34m:\u001b[0m\u001b[0;34m\u001b[0m\u001b[0;34m\u001b[0m\u001b[0m\n",
            "\u001b[0;32m/usr/local/lib/python3.7/dist-packages/jupyter_client/session.py\u001b[0m in \u001b[0;36mrecv\u001b[0;34m(self, socket, mode, content, copy)\u001b[0m\n\u001b[1;32m    802\u001b[0m         \u001b[0;32mtry\u001b[0m\u001b[0;34m:\u001b[0m\u001b[0;34m\u001b[0m\u001b[0;34m\u001b[0m\u001b[0m\n\u001b[0;32m--> 803\u001b[0;31m             \u001b[0mmsg_list\u001b[0m \u001b[0;34m=\u001b[0m \u001b[0msocket\u001b[0m\u001b[0;34m.\u001b[0m\u001b[0mrecv_multipart\u001b[0m\u001b[0;34m(\u001b[0m\u001b[0mmode\u001b[0m\u001b[0;34m,\u001b[0m \u001b[0mcopy\u001b[0m\u001b[0;34m=\u001b[0m\u001b[0mcopy\u001b[0m\u001b[0;34m)\u001b[0m\u001b[0;34m\u001b[0m\u001b[0;34m\u001b[0m\u001b[0m\n\u001b[0m\u001b[1;32m    804\u001b[0m         \u001b[0;32mexcept\u001b[0m \u001b[0mzmq\u001b[0m\u001b[0;34m.\u001b[0m\u001b[0mZMQError\u001b[0m \u001b[0;32mas\u001b[0m \u001b[0me\u001b[0m\u001b[0;34m:\u001b[0m\u001b[0;34m\u001b[0m\u001b[0;34m\u001b[0m\u001b[0m\n",
            "\u001b[0;32m/usr/local/lib/python3.7/dist-packages/zmq/sugar/socket.py\u001b[0m in \u001b[0;36mrecv_multipart\u001b[0;34m(self, flags, copy, track)\u001b[0m\n\u001b[1;32m    624\u001b[0m         \"\"\"\n\u001b[0;32m--> 625\u001b[0;31m         \u001b[0mparts\u001b[0m \u001b[0;34m=\u001b[0m \u001b[0;34m[\u001b[0m\u001b[0mself\u001b[0m\u001b[0;34m.\u001b[0m\u001b[0mrecv\u001b[0m\u001b[0;34m(\u001b[0m\u001b[0mflags\u001b[0m\u001b[0;34m,\u001b[0m \u001b[0mcopy\u001b[0m\u001b[0;34m=\u001b[0m\u001b[0mcopy\u001b[0m\u001b[0;34m,\u001b[0m \u001b[0mtrack\u001b[0m\u001b[0;34m=\u001b[0m\u001b[0mtrack\u001b[0m\u001b[0;34m)\u001b[0m\u001b[0;34m]\u001b[0m\u001b[0;34m\u001b[0m\u001b[0;34m\u001b[0m\u001b[0m\n\u001b[0m\u001b[1;32m    626\u001b[0m         \u001b[0;31m# have first part already, only loop while more to receive\u001b[0m\u001b[0;34m\u001b[0m\u001b[0;34m\u001b[0m\u001b[0;34m\u001b[0m\u001b[0m\n",
            "\u001b[0;32mzmq/backend/cython/socket.pyx\u001b[0m in \u001b[0;36mzmq.backend.cython.socket.Socket.recv\u001b[0;34m()\u001b[0m\n",
            "\u001b[0;32mzmq/backend/cython/socket.pyx\u001b[0m in \u001b[0;36mzmq.backend.cython.socket.Socket.recv\u001b[0;34m()\u001b[0m\n",
            "\u001b[0;32mzmq/backend/cython/socket.pyx\u001b[0m in \u001b[0;36mzmq.backend.cython.socket._recv_copy\u001b[0;34m()\u001b[0m\n",
            "\u001b[0;32m/usr/local/lib/python3.7/dist-packages/zmq/backend/cython/checkrc.pxd\u001b[0m in \u001b[0;36mzmq.backend.cython.checkrc._check_rc\u001b[0;34m()\u001b[0m\n",
            "\u001b[0;31mKeyboardInterrupt\u001b[0m: ",
            "\nDuring handling of the above exception, another exception occurred:\n",
            "\u001b[0;31mKeyboardInterrupt\u001b[0m                         Traceback (most recent call last)",
            "\u001b[0;32m<ipython-input-1-d72e79525d51>\u001b[0m in \u001b[0;36m<module>\u001b[0;34m()\u001b[0m\n\u001b[1;32m      9\u001b[0m \u001b[0;34m\u001b[0m\u001b[0m\n\u001b[1;32m     10\u001b[0m \u001b[0;34m\u001b[0m\u001b[0m\n\u001b[0;32m---> 11\u001b[0;31m \u001b[0malist\u001b[0m \u001b[0;34m=\u001b[0m \u001b[0minput\u001b[0m\u001b[0;34m(\u001b[0m\u001b[0;34m'Enter the list of numbers: '\u001b[0m\u001b[0;34m)\u001b[0m\u001b[0;34m.\u001b[0m\u001b[0msplit\u001b[0m\u001b[0;34m(\u001b[0m\u001b[0;34m)\u001b[0m\u001b[0;34m\u001b[0m\u001b[0;34m\u001b[0m\u001b[0m\n\u001b[0m\u001b[1;32m     12\u001b[0m \u001b[0malist\u001b[0m \u001b[0;34m=\u001b[0m \u001b[0;34m[\u001b[0m\u001b[0mint\u001b[0m\u001b[0;34m(\u001b[0m\u001b[0mx\u001b[0m\u001b[0;34m)\u001b[0m \u001b[0;32mfor\u001b[0m \u001b[0mx\u001b[0m \u001b[0;32min\u001b[0m \u001b[0malist\u001b[0m\u001b[0;34m]\u001b[0m\u001b[0;34m\u001b[0m\u001b[0;34m\u001b[0m\u001b[0m\n\u001b[1;32m     13\u001b[0m \u001b[0minsertion_sort\u001b[0m\u001b[0;34m(\u001b[0m\u001b[0malist\u001b[0m\u001b[0;34m)\u001b[0m\u001b[0;34m\u001b[0m\u001b[0;34m\u001b[0m\u001b[0m\n",
            "\u001b[0;32m/usr/local/lib/python3.7/dist-packages/ipykernel/kernelbase.py\u001b[0m in \u001b[0;36mraw_input\u001b[0;34m(self, prompt)\u001b[0m\n\u001b[1;32m    702\u001b[0m             \u001b[0mself\u001b[0m\u001b[0;34m.\u001b[0m\u001b[0m_parent_ident\u001b[0m\u001b[0;34m,\u001b[0m\u001b[0;34m\u001b[0m\u001b[0;34m\u001b[0m\u001b[0m\n\u001b[1;32m    703\u001b[0m             \u001b[0mself\u001b[0m\u001b[0;34m.\u001b[0m\u001b[0m_parent_header\u001b[0m\u001b[0;34m,\u001b[0m\u001b[0;34m\u001b[0m\u001b[0;34m\u001b[0m\u001b[0m\n\u001b[0;32m--> 704\u001b[0;31m             \u001b[0mpassword\u001b[0m\u001b[0;34m=\u001b[0m\u001b[0;32mFalse\u001b[0m\u001b[0;34m,\u001b[0m\u001b[0;34m\u001b[0m\u001b[0;34m\u001b[0m\u001b[0m\n\u001b[0m\u001b[1;32m    705\u001b[0m         )\n\u001b[1;32m    706\u001b[0m \u001b[0;34m\u001b[0m\u001b[0m\n",
            "\u001b[0;32m/usr/local/lib/python3.7/dist-packages/ipykernel/kernelbase.py\u001b[0m in \u001b[0;36m_input_request\u001b[0;34m(self, prompt, ident, parent, password)\u001b[0m\n\u001b[1;32m    732\u001b[0m             \u001b[0;32mexcept\u001b[0m \u001b[0mKeyboardInterrupt\u001b[0m\u001b[0;34m:\u001b[0m\u001b[0;34m\u001b[0m\u001b[0;34m\u001b[0m\u001b[0m\n\u001b[1;32m    733\u001b[0m                 \u001b[0;31m# re-raise KeyboardInterrupt, to truncate traceback\u001b[0m\u001b[0;34m\u001b[0m\u001b[0;34m\u001b[0m\u001b[0;34m\u001b[0m\u001b[0m\n\u001b[0;32m--> 734\u001b[0;31m                 \u001b[0;32mraise\u001b[0m \u001b[0mKeyboardInterrupt\u001b[0m\u001b[0;34m\u001b[0m\u001b[0;34m\u001b[0m\u001b[0m\n\u001b[0m\u001b[1;32m    735\u001b[0m             \u001b[0;32melse\u001b[0m\u001b[0;34m:\u001b[0m\u001b[0;34m\u001b[0m\u001b[0;34m\u001b[0m\u001b[0m\n\u001b[1;32m    736\u001b[0m                 \u001b[0;32mbreak\u001b[0m\u001b[0;34m\u001b[0m\u001b[0;34m\u001b[0m\u001b[0m\n",
            "\u001b[0;31mKeyboardInterrupt\u001b[0m: "
          ]
        }
      ]
    },
    {
      "cell_type": "markdown",
      "source": [
        "3. Сортировка Обменом"
      ],
      "metadata": {
        "id": "_rJRXZpnZklb"
      }
    },
    {
      "cell_type": "code",
      "source": [
        "from random import randint\n",
        " \n",
        "N = 10\n",
        "a = []\n",
        "for i in range(N):\n",
        "    a.append(randint(1, 99))\n",
        "print(a)\n",
        " \n",
        " \n",
        "for i in range(N-1):\n",
        "    for j in range(N-i-1):\n",
        "        if a[j] > a[j+1]:\n",
        "            a[j], a[j+1] = a[j+1], a[j]\n",
        " \n",
        "print(a)"
      ],
      "metadata": {
        "colab": {
          "base_uri": "https://localhost:8080/"
        },
        "id": "anCRb1emZo5i",
        "outputId": "5446c738-dae7-4015-f8a9-f6e5888df15b"
      },
      "execution_count": 20,
      "outputs": [
        {
          "output_type": "stream",
          "name": "stdout",
          "text": [
            "[28, 92, 49, 89, 5, 3, 74, 45, 29, 5]\n",
            "[3, 5, 5, 28, 29, 45, 49, 74, 89, 92]\n"
          ]
        }
      ]
    },
    {
      "cell_type": "markdown",
      "source": [
        "4. Сортировка Шелла"
      ],
      "metadata": {
        "id": "1eGfqbdpZy94"
      }
    },
    {
      "cell_type": "code",
      "source": [
        "def shellSort(alist):\n",
        "    sublistcount = len(alist)//2\n",
        "    while sublistcount > 0:\n",
        "\n",
        "      for startposition in range(sublistcount):\n",
        "        gapInsertionSort(alist,startposition,sublistcount)\n",
        "\n",
        "      print(\"After increments of size\",sublistcount,\n",
        "                                   \"The list is\",alist)\n",
        "\n",
        "      sublistcount = sublistcount // 2\n",
        "\n",
        "def gapInsertionSort(alist,start,gap):\n",
        "    for i in range(start+gap,len(alist),gap):\n",
        "\n",
        "        currentvalue = alist[i]\n",
        "        position = i\n",
        "\n",
        "        while position>=gap and alist[position-gap]>currentvalue:\n",
        "            alist[position]=alist[position-gap]\n",
        "            position = position-gap\n",
        "\n",
        "        alist[position]=currentvalue\n",
        "\n",
        "alist = [54,26,93,17,77,31,44,55,20]\n",
        "shellSort(alist)\n",
        "print(alist)\n"
      ],
      "metadata": {
        "colab": {
          "base_uri": "https://localhost:8080/"
        },
        "id": "SahxVZV5Z5q3",
        "outputId": "e2cebd7f-d248-46ce-f543-0e296bf3b4f9"
      },
      "execution_count": 22,
      "outputs": [
        {
          "output_type": "stream",
          "name": "stdout",
          "text": [
            "After increments of size 4 The list is [20, 26, 44, 17, 54, 31, 93, 55, 77]\n",
            "After increments of size 2 The list is [20, 17, 44, 26, 54, 31, 77, 55, 93]\n",
            "After increments of size 1 The list is [17, 20, 26, 31, 44, 54, 55, 77, 93]\n",
            "[17, 20, 26, 31, 44, 54, 55, 77, 93]\n"
          ]
        }
      ]
    }
  ]
}